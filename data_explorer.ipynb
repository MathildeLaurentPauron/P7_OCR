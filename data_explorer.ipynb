{
 "cells": [
  {
   "cell_type": "code",
   "execution_count": 1,
   "id": "6d9d4882",
   "metadata": {},
   "outputs": [
    {
     "name": "stderr",
     "output_type": "stream",
     "text": [
      "2025-05-30 12:25:37.648 WARNING streamlit.runtime.scriptrunner_utils.script_run_context: Thread 'MainThread': missing ScriptRunContext! This warning can be ignored when running in bare mode.\n",
      "2025-05-30 12:25:38.161 \n",
      "  \u001b[33m\u001b[1mWarning:\u001b[0m to view this Streamlit app on a browser, run it with the following\n",
      "  command:\n",
      "\n",
      "    streamlit run c:\\Users\\mathi\\miniconda3\\envs\\pytorch\\Lib\\site-packages\\ipykernel_launcher.py [ARGUMENTS]\n",
      "2025-05-30 12:25:38.162 Thread 'MainThread': missing ScriptRunContext! This warning can be ignored when running in bare mode.\n",
      "2025-05-30 12:25:38.163 Thread 'MainThread': missing ScriptRunContext! This warning can be ignored when running in bare mode.\n",
      "2025-05-30 12:25:38.163 Thread 'MainThread': missing ScriptRunContext! This warning can be ignored when running in bare mode.\n",
      "2025-05-30 12:25:38.164 Thread 'MainThread': missing ScriptRunContext! This warning can be ignored when running in bare mode.\n",
      "2025-05-30 12:25:38.164 Thread 'MainThread': missing ScriptRunContext! This warning can be ignored when running in bare mode.\n",
      "2025-05-30 12:25:38.165 Session state does not function when running a script without `streamlit run`\n",
      "2025-05-30 12:25:38.165 Thread 'MainThread': missing ScriptRunContext! This warning can be ignored when running in bare mode.\n",
      "2025-05-30 12:25:38.166 Thread 'MainThread': missing ScriptRunContext! This warning can be ignored when running in bare mode.\n",
      "2025-05-30 12:25:38.166 Thread 'MainThread': missing ScriptRunContext! This warning can be ignored when running in bare mode.\n",
      "2025-05-30 12:25:38.167 Thread 'MainThread': missing ScriptRunContext! This warning can be ignored when running in bare mode.\n",
      "2025-05-30 12:25:38.167 Thread 'MainThread': missing ScriptRunContext! This warning can be ignored when running in bare mode.\n",
      "2025-05-30 12:25:38.167 Thread 'MainThread': missing ScriptRunContext! This warning can be ignored when running in bare mode.\n",
      "2025-05-30 12:25:38.168 Thread 'MainThread': missing ScriptRunContext! This warning can be ignored when running in bare mode.\n",
      "2025-05-30 12:25:38.168 Thread 'MainThread': missing ScriptRunContext! This warning can be ignored when running in bare mode.\n",
      "2025-05-30 12:25:38.169 Thread 'MainThread': missing ScriptRunContext! This warning can be ignored when running in bare mode.\n",
      "2025-05-30 12:25:38.169 Thread 'MainThread': missing ScriptRunContext! This warning can be ignored when running in bare mode.\n",
      "2025-05-30 12:25:38.169 Thread 'MainThread': missing ScriptRunContext! This warning can be ignored when running in bare mode.\n",
      "2025-05-30 12:25:38.170 Thread 'MainThread': missing ScriptRunContext! This warning can be ignored when running in bare mode.\n",
      "2025-05-30 12:25:38.170 Thread 'MainThread': missing ScriptRunContext! This warning can be ignored when running in bare mode.\n"
     ]
    }
   ],
   "source": [
    "import pandas as pd\n",
    "from LLM_tags_predictor import ask_ollama, compute_jaccard, TAG_VOCAB\n",
    "import pickle\n",
    "from sklearn.metrics import jaccard_score, f1_score\n",
    "from sklearn.preprocessing import MultiLabelBinarizer\n",
    "from tqdm import tqdm\n",
    "import time"
   ]
  },
  {
   "cell_type": "code",
   "execution_count": 2,
   "id": "bd546172",
   "metadata": {},
   "outputs": [
    {
     "data": {
      "text/html": [
       "<div>\n",
       "<style scoped>\n",
       "    .dataframe tbody tr th:only-of-type {\n",
       "        vertical-align: middle;\n",
       "    }\n",
       "\n",
       "    .dataframe tbody tr th {\n",
       "        vertical-align: top;\n",
       "    }\n",
       "\n",
       "    .dataframe thead th {\n",
       "        text-align: right;\n",
       "    }\n",
       "</style>\n",
       "<table border=\"1\" class=\"dataframe\">\n",
       "  <thead>\n",
       "    <tr style=\"text-align: right;\">\n",
       "      <th></th>\n",
       "      <th>Id</th>\n",
       "      <th>Score</th>\n",
       "      <th>ViewCount</th>\n",
       "      <th>AnswerCount</th>\n",
       "      <th>CreationDate</th>\n",
       "      <th>clean_tags</th>\n",
       "      <th>cleaned_title_body</th>\n",
       "      <th>use_embedding</th>\n",
       "    </tr>\n",
       "  </thead>\n",
       "  <tbody>\n",
       "    <tr>\n",
       "      <th>9225</th>\n",
       "      <td>69173673</td>\n",
       "      <td>0</td>\n",
       "      <td>527</td>\n",
       "      <td>1</td>\n",
       "      <td>2021-09-14 07:33:03</td>\n",
       "      <td>[java]</td>\n",
       "      <td>massindexer does not index anything pi am havi...</td>\n",
       "      <td>[-0.049276374, 0.01934247, 0.049249403, -0.049...</td>\n",
       "    </tr>\n",
       "    <tr>\n",
       "      <th>31537</th>\n",
       "      <td>69802874</td>\n",
       "      <td>2</td>\n",
       "      <td>548</td>\n",
       "      <td>1</td>\n",
       "      <td>2021-11-01 21:16:34</td>\n",
       "      <td>[java, android]</td>\n",
       "      <td>reaction button like facebook in android pi wa...</td>\n",
       "      <td>[-0.045043375, 0.003261991, -0.04625422, 0.008...</td>\n",
       "    </tr>\n",
       "    <tr>\n",
       "      <th>48498</th>\n",
       "      <td>65716089</td>\n",
       "      <td>23</td>\n",
       "      <td>24155</td>\n",
       "      <td>1</td>\n",
       "      <td>2021-01-14 09:05:23</td>\n",
       "      <td>[python]</td>\n",
       "      <td>no such file or directory gdalconfig pi am try...</td>\n",
       "      <td>[-0.05613595, 0.016346524, -0.025491387, 0.015...</td>\n",
       "    </tr>\n",
       "    <tr>\n",
       "      <th>22038</th>\n",
       "      <td>69531474</td>\n",
       "      <td>0</td>\n",
       "      <td>317</td>\n",
       "      <td>1</td>\n",
       "      <td>2021-10-11 19:21:34</td>\n",
       "      <td>[javascript]</td>\n",
       "      <td>how enable google chrome browser to run local ...</td>\n",
       "      <td>[0.012481596, 0.02767596, -0.051428612, 0.0243...</td>\n",
       "    </tr>\n",
       "    <tr>\n",
       "      <th>14936</th>\n",
       "      <td>69330780</td>\n",
       "      <td>1</td>\n",
       "      <td>7242</td>\n",
       "      <td>4</td>\n",
       "      <td>2021-09-25 23:33:44</td>\n",
       "      <td>[android]</td>\n",
       "      <td>after fixing android gradle plugin requires ja...</td>\n",
       "      <td>[-0.047418475, 0.009764155, -0.03632176, 0.052...</td>\n",
       "    </tr>\n",
       "  </tbody>\n",
       "</table>\n",
       "</div>"
      ],
      "text/plain": [
       "             Id  Score  ViewCount  AnswerCount         CreationDate  \\\n",
       "9225   69173673      0        527            1  2021-09-14 07:33:03   \n",
       "31537  69802874      2        548            1  2021-11-01 21:16:34   \n",
       "48498  65716089     23      24155            1  2021-01-14 09:05:23   \n",
       "22038  69531474      0        317            1  2021-10-11 19:21:34   \n",
       "14936  69330780      1       7242            4  2021-09-25 23:33:44   \n",
       "\n",
       "            clean_tags                                 cleaned_title_body  \\\n",
       "9225            [java]  massindexer does not index anything pi am havi...   \n",
       "31537  [java, android]  reaction button like facebook in android pi wa...   \n",
       "48498         [python]  no such file or directory gdalconfig pi am try...   \n",
       "22038     [javascript]  how enable google chrome browser to run local ...   \n",
       "14936        [android]  after fixing android gradle plugin requires ja...   \n",
       "\n",
       "                                           use_embedding  \n",
       "9225   [-0.049276374, 0.01934247, 0.049249403, -0.049...  \n",
       "31537  [-0.045043375, 0.003261991, -0.04625422, 0.008...  \n",
       "48498  [-0.05613595, 0.016346524, -0.025491387, 0.015...  \n",
       "22038  [0.012481596, 0.02767596, -0.051428612, 0.0243...  \n",
       "14936  [-0.047418475, 0.009764155, -0.03632176, 0.052...  "
      ]
     },
     "execution_count": 2,
     "metadata": {},
     "output_type": "execute_result"
    }
   ],
   "source": [
    "data = pd.read_pickle('data/data_170125.pkl')\n",
    "data = data.sample(150)\n",
    "\n",
    "data.head()"
   ]
  },
  {
   "cell_type": "code",
   "execution_count": 3,
   "id": "2ee904bd",
   "metadata": {},
   "outputs": [
    {
     "data": {
      "text/plain": [
       "(150, 8)"
      ]
     },
     "execution_count": 3,
     "metadata": {},
     "output_type": "execute_result"
    }
   ],
   "source": [
    "data.shape"
   ]
  },
  {
   "cell_type": "code",
   "execution_count": 4,
   "id": "68762044",
   "metadata": {},
   "outputs": [
    {
     "name": "stderr",
     "output_type": "stream",
     "text": [
      "c:\\Users\\mathi\\miniconda3\\envs\\pytorch\\Lib\\site-packages\\sklearn\\base.py:380: InconsistentVersionWarning: Trying to unpickle estimator MultiLabelBinarizer from version 1.5.2 when using version 1.6.1. This might lead to breaking code or invalid results. Use at your own risk. For more info please refer to:\n",
      "https://scikit-learn.org/stable/model_persistence.html#security-maintainability-limitations\n",
      "  warnings.warn(\n",
      "100%|██████████| 150/150 [1:49:22<00:00, 43.75s/it]   \n"
     ]
    }
   ],
   "source": [
    "\n",
    "# Charger le MultiLabelBinarizer\n",
    "mlb = pickle.load(open(\"mlb_use.pkl\", \"rb\"))\n",
    "TAG_VOCAB = mlb.classes_.tolist()\n",
    "\n",
    "# Itérer sur le dataset et prédire les tags\n",
    "predicted_tags_list = []\n",
    "jaccard_scores = []\n",
    "f1_scores = []\n",
    "\n",
    "# Pour calculs finaux\n",
    "all_y_true = []\n",
    "all_y_pred = []\n",
    "\n",
    "for idx, row in tqdm(data.iterrows(), total=len(data)):\n",
    "    question = row['cleaned_title_body']\n",
    "    true_tags = row['clean_tags']\n",
    "\n",
    "    try:\n",
    "        pred_tags = ask_ollama(question, TAG_VOCAB)\n",
    "        predicted_tags_list.append(pred_tags)\n",
    "\n",
    "        # Binariser les tags pour la ligne\n",
    "        y_true_bin = mlb.transform([true_tags])\n",
    "        y_pred_bin = mlb.transform([pred_tags])\n",
    "\n",
    "        # Stocker pour calcul global\n",
    "        all_y_true.append(y_true_bin[0])\n",
    "        all_y_pred.append(y_pred_bin[0])\n",
    "\n",
    "        # Jaccard score par question\n",
    "        jaccard_scores.append(jaccard_score(y_true_bin, y_pred_bin, average='samples'))\n",
    "\n",
    "        # F1 score par question\n",
    "        f1_scores.append(f1_score(y_true_bin, y_pred_bin, average='samples', zero_division=0))\n",
    "\n",
    "        time.sleep(1.5)  # éviter surcharge serveur Ollama\n",
    "    except Exception as e:\n",
    "        predicted_tags_list.append([])\n",
    "        jaccard_scores.append(0.0)\n",
    "        f1_scores.append(0.0)\n",
    "        print(f\"⚠️ Erreur à l’index {idx} : {e}\")\n",
    "\n",
    "# Ajouter les résultats au dataframe\n",
    "data['predicted_tags'] = predicted_tags_list\n",
    "data['jaccard_score'] = jaccard_scores\n",
    "data['f1_score'] = f1_scores"
   ]
  },
  {
   "cell_type": "code",
   "execution_count": 5,
   "id": "53ec5b93",
   "metadata": {},
   "outputs": [
    {
     "name": "stdout",
     "output_type": "stream",
     "text": [
      "\n",
      "✅ Moyenne Jaccard score (échantillons) : 0.6306\n",
      "✅ Moyenne F1 score (échantillons) : 0.7249\n"
     ]
    }
   ],
   "source": [
    "# Conversion en array pour calcul global\n",
    "import numpy as np\n",
    "y_true_array = np.array(all_y_true)\n",
    "y_pred_array = np.array(all_y_pred)\n",
    "\n",
    "# Moyennes globales\n",
    "mean_jaccard = jaccard_score(y_true_array, y_pred_array, average='samples')\n",
    "mean_f1 = f1_score(y_true_array, y_pred_array, average='samples', zero_division=0)\n",
    "\n",
    "print(f\"\\n✅ Moyenne Jaccard score (échantillons) : {mean_jaccard:.4f}\")\n",
    "print(f\"✅ Moyenne F1 score (échantillons) : {mean_f1:.4f}\")"
   ]
  },
  {
   "cell_type": "code",
   "execution_count": 6,
   "id": "4bcfefe1",
   "metadata": {},
   "outputs": [
    {
     "name": "stdout",
     "output_type": "stream",
     "text": [
      "\n",
      "📊 Jaccard score par tag :\n",
      "          tag  jaccard_score\n",
      "0     android       0.833333\n",
      "8      python       0.754098\n",
      "9     reactjs       0.631579\n",
      "5  javascript       0.616667\n",
      "2         css       0.545455\n",
      "4        java       0.538462\n",
      "7      pandas       0.500000\n",
      "3        html       0.500000\n",
      "1      arrays       0.476190\n",
      "6     node.js       0.300000\n"
     ]
    }
   ],
   "source": [
    "# Jaccard par tag\n",
    "jaccard_by_tag = jaccard_score(y_true_array, y_pred_array, average=None)\n",
    "jaccard_tag_df = pd.DataFrame({'tag': TAG_VOCAB, 'jaccard_score': jaccard_by_tag})\n",
    "print(\"\\n📊 Jaccard score par tag :\")\n",
    "print(jaccard_tag_df.sort_values(by='jaccard_score', ascending=False))"
   ]
  },
  {
   "cell_type": "code",
   "execution_count": 7,
   "id": "8f237c47",
   "metadata": {},
   "outputs": [
    {
     "name": "stdout",
     "output_type": "stream",
     "text": [
      "\n",
      "📊 F1 score par tag (⚠️ sensible aux classes rares) :\n",
      "          tag  f1_score\n",
      "0     android  0.909091\n",
      "8      python  0.859813\n",
      "9     reactjs  0.774194\n",
      "5  javascript  0.762887\n",
      "2         css  0.705882\n",
      "4        java  0.700000\n",
      "7      pandas  0.666667\n",
      "3        html  0.666667\n",
      "1      arrays  0.645161\n",
      "6     node.js  0.461538\n"
     ]
    }
   ],
   "source": [
    "# F1 score par tag (à utiliser avec prudence si certains tags sont rares)\n",
    "f1_by_tag = f1_score(y_true_array, y_pred_array, average=None, zero_division=0)\n",
    "f1_tag_df = pd.DataFrame({'tag': TAG_VOCAB, 'f1_score': f1_by_tag})\n",
    "print(\"\\n📊 F1 score par tag (⚠️ sensible aux classes rares) :\")\n",
    "print(f1_tag_df.sort_values(by='f1_score', ascending=False))"
   ]
  },
  {
   "cell_type": "code",
   "execution_count": 8,
   "id": "cb4dd776",
   "metadata": {},
   "outputs": [
    {
     "data": {
      "text/html": [
       "<div>\n",
       "<style scoped>\n",
       "    .dataframe tbody tr th:only-of-type {\n",
       "        vertical-align: middle;\n",
       "    }\n",
       "\n",
       "    .dataframe tbody tr th {\n",
       "        vertical-align: top;\n",
       "    }\n",
       "\n",
       "    .dataframe thead th {\n",
       "        text-align: right;\n",
       "    }\n",
       "</style>\n",
       "<table border=\"1\" class=\"dataframe\">\n",
       "  <thead>\n",
       "    <tr style=\"text-align: right;\">\n",
       "      <th></th>\n",
       "      <th>Id</th>\n",
       "      <th>Score</th>\n",
       "      <th>ViewCount</th>\n",
       "      <th>AnswerCount</th>\n",
       "      <th>CreationDate</th>\n",
       "      <th>clean_tags</th>\n",
       "      <th>cleaned_title_body</th>\n",
       "      <th>use_embedding</th>\n",
       "      <th>predicted_tags</th>\n",
       "      <th>jaccard_score</th>\n",
       "      <th>f1_score</th>\n",
       "    </tr>\n",
       "  </thead>\n",
       "  <tbody>\n",
       "    <tr>\n",
       "      <th>9225</th>\n",
       "      <td>69173673</td>\n",
       "      <td>0</td>\n",
       "      <td>527</td>\n",
       "      <td>1</td>\n",
       "      <td>2021-09-14 07:33:03</td>\n",
       "      <td>[java]</td>\n",
       "      <td>massindexer does not index anything pi am havi...</td>\n",
       "      <td>[-0.049276374, 0.01934247, 0.049249403, -0.049...</td>\n",
       "      <td>[]</td>\n",
       "      <td>0.0</td>\n",
       "      <td>0.000000</td>\n",
       "    </tr>\n",
       "    <tr>\n",
       "      <th>31537</th>\n",
       "      <td>69802874</td>\n",
       "      <td>2</td>\n",
       "      <td>548</td>\n",
       "      <td>1</td>\n",
       "      <td>2021-11-01 21:16:34</td>\n",
       "      <td>[java, android]</td>\n",
       "      <td>reaction button like facebook in android pi wa...</td>\n",
       "      <td>[-0.045043375, 0.003261991, -0.04625422, 0.008...</td>\n",
       "      <td>[android, java]</td>\n",
       "      <td>1.0</td>\n",
       "      <td>1.000000</td>\n",
       "    </tr>\n",
       "    <tr>\n",
       "      <th>48498</th>\n",
       "      <td>65716089</td>\n",
       "      <td>23</td>\n",
       "      <td>24155</td>\n",
       "      <td>1</td>\n",
       "      <td>2021-01-14 09:05:23</td>\n",
       "      <td>[python]</td>\n",
       "      <td>no such file or directory gdalconfig pi am try...</td>\n",
       "      <td>[-0.05613595, 0.016346524, -0.025491387, 0.015...</td>\n",
       "      <td>[python, pandas]</td>\n",
       "      <td>0.5</td>\n",
       "      <td>0.666667</td>\n",
       "    </tr>\n",
       "    <tr>\n",
       "      <th>22038</th>\n",
       "      <td>69531474</td>\n",
       "      <td>0</td>\n",
       "      <td>317</td>\n",
       "      <td>1</td>\n",
       "      <td>2021-10-11 19:21:34</td>\n",
       "      <td>[javascript]</td>\n",
       "      <td>how enable google chrome browser to run local ...</td>\n",
       "      <td>[0.012481596, 0.02767596, -0.051428612, 0.0243...</td>\n",
       "      <td>[javascript, html]</td>\n",
       "      <td>0.5</td>\n",
       "      <td>0.666667</td>\n",
       "    </tr>\n",
       "    <tr>\n",
       "      <th>14936</th>\n",
       "      <td>69330780</td>\n",
       "      <td>1</td>\n",
       "      <td>7242</td>\n",
       "      <td>4</td>\n",
       "      <td>2021-09-25 23:33:44</td>\n",
       "      <td>[android]</td>\n",
       "      <td>after fixing android gradle plugin requires ja...</td>\n",
       "      <td>[-0.047418475, 0.009764155, -0.03632176, 0.052...</td>\n",
       "      <td>[android, java]</td>\n",
       "      <td>0.5</td>\n",
       "      <td>0.666667</td>\n",
       "    </tr>\n",
       "  </tbody>\n",
       "</table>\n",
       "</div>"
      ],
      "text/plain": [
       "             Id  Score  ViewCount  AnswerCount         CreationDate  \\\n",
       "9225   69173673      0        527            1  2021-09-14 07:33:03   \n",
       "31537  69802874      2        548            1  2021-11-01 21:16:34   \n",
       "48498  65716089     23      24155            1  2021-01-14 09:05:23   \n",
       "22038  69531474      0        317            1  2021-10-11 19:21:34   \n",
       "14936  69330780      1       7242            4  2021-09-25 23:33:44   \n",
       "\n",
       "            clean_tags                                 cleaned_title_body  \\\n",
       "9225            [java]  massindexer does not index anything pi am havi...   \n",
       "31537  [java, android]  reaction button like facebook in android pi wa...   \n",
       "48498         [python]  no such file or directory gdalconfig pi am try...   \n",
       "22038     [javascript]  how enable google chrome browser to run local ...   \n",
       "14936        [android]  after fixing android gradle plugin requires ja...   \n",
       "\n",
       "                                           use_embedding      predicted_tags  \\\n",
       "9225   [-0.049276374, 0.01934247, 0.049249403, -0.049...                  []   \n",
       "31537  [-0.045043375, 0.003261991, -0.04625422, 0.008...     [android, java]   \n",
       "48498  [-0.05613595, 0.016346524, -0.025491387, 0.015...    [python, pandas]   \n",
       "22038  [0.012481596, 0.02767596, -0.051428612, 0.0243...  [javascript, html]   \n",
       "14936  [-0.047418475, 0.009764155, -0.03632176, 0.052...     [android, java]   \n",
       "\n",
       "       jaccard_score  f1_score  \n",
       "9225             0.0  0.000000  \n",
       "31537            1.0  1.000000  \n",
       "48498            0.5  0.666667  \n",
       "22038            0.5  0.666667  \n",
       "14936            0.5  0.666667  "
      ]
     },
     "execution_count": 8,
     "metadata": {},
     "output_type": "execute_result"
    }
   ],
   "source": [
    "pd.set_option('display.max_colwidth', 50)\n",
    "data.head()"
   ]
  },
  {
   "cell_type": "code",
   "execution_count": 9,
   "id": "2c36ce3c",
   "metadata": {},
   "outputs": [
    {
     "data": {
      "text/html": [
       "<div>\n",
       "<style scoped>\n",
       "    .dataframe tbody tr th:only-of-type {\n",
       "        vertical-align: middle;\n",
       "    }\n",
       "\n",
       "    .dataframe tbody tr th {\n",
       "        vertical-align: top;\n",
       "    }\n",
       "\n",
       "    .dataframe thead th {\n",
       "        text-align: right;\n",
       "    }\n",
       "</style>\n",
       "<table border=\"1\" class=\"dataframe\">\n",
       "  <thead>\n",
       "    <tr style=\"text-align: right;\">\n",
       "      <th></th>\n",
       "      <th>cleaned_title_body</th>\n",
       "      <th>clean_tags</th>\n",
       "    </tr>\n",
       "  </thead>\n",
       "  <tbody>\n",
       "  </tbody>\n",
       "</table>\n",
       "</div>"
      ],
      "text/plain": [
       "Empty DataFrame\n",
       "Columns: [cleaned_title_body, clean_tags]\n",
       "Index: []"
      ]
     },
     "execution_count": 9,
     "metadata": {},
     "output_type": "execute_result"
    }
   ],
   "source": [
    "# On change les options pandas pour afficher tout le texte\n",
    "pd.set_option('display.max_colwidth', None)  # désactive le troncage des colonnes texte\n",
    "jaccard_null = data.loc[(data['jaccard_score'] == 0) & (data['clean_tags'].apply(lambda tags: 'html' in tags)), ['cleaned_title_body', 'clean_tags']]\n",
    "jaccard_null.head()"
   ]
  },
  {
   "cell_type": "code",
   "execution_count": 10,
   "id": "4d59ef09",
   "metadata": {},
   "outputs": [
    {
     "data": {
      "image/png": "[encoded data removed]",
      "text/plain": [
       "<Figure size 1000x600 with 1 Axes>"
      ]
     },
     "metadata": {},
     "output_type": "display_data"
    }
   ],
   "source": [
    "%matplotlib inline\n",
    "\n",
    "import seaborn as sns\n",
    "import matplotlib.pyplot as plt\n",
    "\n",
    "\n",
    "# Tracé du barplot\n",
    "plt.figure(figsize=(10, 6))\n",
    "sns.barplot(data=jaccard_tag_df, x='tag', y='jaccard_score')\n",
    "plt.title(\"Jaccard Score moyen par tag\")\n",
    "plt.xlabel(\"Tag\")\n",
    "plt.ylabel(\"Jaccard Score moyen\")\n",
    "plt.xticks(rotation=45)\n",
    "plt.tight_layout()\n",
    "plt.show()"
   ]
  },
  {
   "cell_type": "code",
   "execution_count": 11,
   "id": "23565ed3",
   "metadata": {},
   "outputs": [],
   "source": [
    "# Sauvegarde des résultats\n",
    "data.to_pickle(\"data/results_llm_tags_mistralmini_24b.pkl\")"
   ]
  },
  {
   "cell_type": "code",
   "execution_count": 29,
   "id": "4625804d",
   "metadata": {},
   "outputs": [],
   "source": [
    "import pandas as pd\n",
    "\n",
    "# Chargement des résultats\n",
    "mistral_mini = pd.read_pickle('data/results_llm_tags_mistralmini_24b.pkl')\n",
    "mistral = pd.read_pickle('data/results_llm_tags_mistral7b.pkl')\n",
    "deepseek = pd.read_pickle('data/results_llm_tags_deepseek14b.pkl')\n",
    "llama = pd.read_pickle('data/results_llm_tags_llama3_8b.pkl')"
   ]
  },
  {
   "cell_type": "code",
   "execution_count": 30,
   "id": "8b2241f4",
   "metadata": {},
   "outputs": [
    {
     "name": "stdout",
     "output_type": "stream",
     "text": [
      "          model  jaccard_score  f1_score\n",
      "0  mistral_mini       0.630556  0.724889\n",
      "1       mistral       0.614889  0.670698\n",
      "2      deepseek       0.649667  0.714460\n",
      "3         llama       0.635444  0.700275\n"
     ]
    }
   ],
   "source": [
    "# Calcul des moyennes\n",
    "results = {\n",
    "    'mistral_mini': {\n",
    "        'jaccard_score': mistral_mini['jaccard_score'].mean(),\n",
    "        'f1_score': mistral_mini['f1_score'].mean()\n",
    "    },\n",
    "    'mistral': {\n",
    "        'jaccard_score': mistral['jaccard_score'].mean(),\n",
    "        'f1_score': mistral['f1_score'].mean()\n",
    "    },\n",
    "    'deepseek': {\n",
    "        'jaccard_score': deepseek['jaccard_score'].mean(),\n",
    "        'f1_score': deepseek['f1_score'].mean()\n",
    "    },\n",
    "    'llama': {\n",
    "        'jaccard_score': llama['jaccard_score'].mean(),\n",
    "        'f1_score': llama['f1_score'].mean()\n",
    "    }\n",
    "}\n",
    "\n",
    "# Construction du DataFrame\n",
    "df_scores = pd.DataFrame.from_dict(results, orient='index').reset_index()\n",
    "df_scores.columns = ['model', 'jaccard_score', 'f1_score']\n",
    "\n",
    "print(df_scores)"
   ]
  }
 ],
 "metadata": {
  "kernelspec": {
   "display_name": "pytorch",
   "language": "python",
   "name": "python3"
  },
  "language_info": {
   "codemirror_mode": {
    "name": "ipython",
    "version": 3
   },
   "file_extension": ".py",
   "mimetype": "text/x-python",
   "name": "python",
   "nbconvert_exporter": "python",
   "pygments_lexer": "ipython3",
   "version": "3.11.11"
  }
 },
 "nbformat": 4,
 "nbformat_minor": 5
}
