{
 "cells": [
  {
   "cell_type": "code",
   "execution_count": 102,
   "id": "6d9d4882",
   "metadata": {},
   "outputs": [],
   "source": [
    "import pandas as pd\n",
    "from LLM_tags_predictor import ask_ollama, compute_jaccard, TAG_VOCAB\n",
    "import pickle\n",
    "from sklearn.metrics import jaccard_score, f1_score\n",
    "from sklearn.preprocessing import MultiLabelBinarizer\n",
    "from tqdm import tqdm\n",
    "import time"
   ]
  },
  {
   "cell_type": "code",
   "execution_count": 103,
   "id": "bd546172",
   "metadata": {},
   "outputs": [
    {
     "data": {
      "text/html": [
       "<div>\n",
       "<style scoped>\n",
       "    .dataframe tbody tr th:only-of-type {\n",
       "        vertical-align: middle;\n",
       "    }\n",
       "\n",
       "    .dataframe tbody tr th {\n",
       "        vertical-align: top;\n",
       "    }\n",
       "\n",
       "    .dataframe thead th {\n",
       "        text-align: right;\n",
       "    }\n",
       "</style>\n",
       "<table border=\"1\" class=\"dataframe\">\n",
       "  <thead>\n",
       "    <tr style=\"text-align: right;\">\n",
       "      <th></th>\n",
       "      <th>Id</th>\n",
       "      <th>Score</th>\n",
       "      <th>ViewCount</th>\n",
       "      <th>AnswerCount</th>\n",
       "      <th>CreationDate</th>\n",
       "      <th>clean_tags</th>\n",
       "      <th>cleaned_title_body</th>\n",
       "      <th>use_embedding</th>\n",
       "    </tr>\n",
       "  </thead>\n",
       "  <tbody>\n",
       "    <tr>\n",
       "      <th>41373</th>\n",
       "      <td>65540389</td>\n",
       "      <td>0</td>\n",
       "      <td>356</td>\n",
       "      <td>1</td>\n",
       "      <td>2021-01-02 14:48:42</td>\n",
       "      <td>[java]</td>\n",
       "      <td>classloader failed locating my properties file pmy problem is when i use this code in ide such as eclipse it works well  but when i use it in tomcat server it doesnt work this is a part of java servlet application i dont use maven or spring p\\nprecodepublic class daofactory \\n    private final static string property_driver  quotdriverquot\\n    private final static string property_user_name  quotusernamequot\\n    private final static string property_passwd  quotpasswdquot\\n    private final static string property_db_name  quotdbnamequot\\n    private final static string property_url  quoturlquot\\n    private final static string file_properties  quotcomdaodbinfospropertiesquot\\n    \\n    private string url\\n    private string passwd\\n    \\n    private string username\\n    \\n    \\n      \\n      param url\\n      param passwd\\n      param username\\n     \\n    public daofactorystring urlstring passwdstring username\\n    \\n        thisurl  url\\n        thispasswd  passwd\\n        thisusername  username\\n    \\n    \\n      \\n      return\\n      throws daoconfigurationexception\\n     \\n    public static daofactory getinstancethrows daoconfigurationexception\\n    \\n        properties properties  new properties\\n        string passwd\\n        string url\\n        string username\\n        string driver \\n\\n        classloader loader  threadcurrentthreadgetcontextclassloader\\n        inputstream input   loadergetresourceasstreamfile_properties\\n        \\n        ifinput  null\\n            throw new daoconfigurationexceptionquotproperties file not exist exceptionquot\\n        try\\n        \\n            propertiesloadinput\\n            \\n            url  propertiesgetpropertyproperty_url\\n            passwd  propertiesgetpropertyproperty_passwd\\n            \\n            username  propertiesgetpropertyproperty_user_name\\n            driver  propertiesgetpropertyproperty_driver   \\n        \\n        catchioexception e\\n        \\n            throw new daoconfigurationexceptionquotproperties file loading exception quote\\n        \\n        \\n        try\\n        \\n            classfornamedriver\\n        \\n        catchclassnotfoundexception e\\n        \\n            throw new daoconfigurationexceptionquot driver loading error quote\\n        \\n        \\n        return new daofactoryurlpasswdusername\\n    \\n    \\n    public connection getconnectionthrows daoconfigurationexception\\n    \\n        try\\n        \\n            return drivermanagergetconnectionurlusernamepasswd\\n        catchsqlexception e\\n        \\n            throw new daoconfigurationexceptionquotconnection failed to be createdquote\\n        \\n    \\n    \\n    \\n      \\n      return\\n     \\n    public unitedao getunite\\n    \\n        return new uniteimpldaothis\\n    \\n\\ncodepre\\npalways throws quotproperties file not exist exceptionquot the message in the if statement abovep\\npthe hierarchy of the package isp\\nprecodesrc\\n _ com\\n    _ dao\\n        _ daofactory\\n        _ dbinfosproperties \\nwebinf\\n  _ \\n      \\n      \\n      \\ncodepre\\npplease could you help p\\n</td>\n",
       "      <td>[0.0048554507, 0.059991304, 0.0037320948, -0.022414876, -0.004395243, 0.06207861, -0.010488719, 0.04022778, -0.0052122087, 0.006831076, -0.053158846, -0.044050757, -0.000689589, -0.018186724, 0.042888343, 0.062080808, 0.003936201, 0.039108716, 0.042623002, -0.061702892, 0.05877948, 0.03519368, 0.028903468, -0.043036275, 0.044198114, -0.028579023, 0.024639383, -0.0022364168, -0.00409031, 0.041253723, 0.024413384, -0.042448655, -0.053724915, 0.033079702, -0.057178132, -0.037150268, 0.040881615, 0.00084329187, -0.051970135, 0.0017846497, -0.02512873, 0.0025065881, -0.0008668324, 0.01912972, 0.062080808, 0.012536691, -0.05958509, 0.0081347395, 0.026695643, 0.043170556, 0.057485282, -0.050244536, -0.06124301, -0.056715548, 0.0021106463, -0.058976635, -0.042187516, 0.025570732, 0.04461442, 0.009299339, 0.060621087, -0.056595616, -0.054686125, 0.0406519, 0.025058806, -0.056802835, -0.054867383, 0.022152903, 0.062080387, -0.03314896, -0.062080678, 0.0060087848, 0.05946455, -0.03204498, -0.013763372, 0.06191176, -0.05487201, -0.027242782, 0.04647543, -0.012140978, 0.054884214, 0.0006041759, -0.020319074, 0.020447478, 0.06208063, -0.03123577, -0.05812132, 0.05907467, 0.060312774, -0.009305263, 0.01604148, -0.04813303, -0.05664533, 0.049763884, -0.0366851, -0.021827126, -0.0028892884, 0.0392236, -0.05669133, -0.062074065, ...]</td>\n",
       "    </tr>\n",
       "    <tr>\n",
       "      <th>9410</th>\n",
       "      <td>69178271</td>\n",
       "      <td>0</td>\n",
       "      <td>97</td>\n",
       "      <td>2</td>\n",
       "      <td>2021-09-14 12:59:42</td>\n",
       "      <td>[html]</td>\n",
       "      <td>my input file date format changes on daily basis pi need help please my codeinputfilecode changes on daily basis which gets generated and store under codetmpcode directory file format date as followsp\\nprecodetmp\\n570572 sep 13 2102 sessions_record_20210913_210052csv\\n570788 sep 14 0901 sessions_record_20210914_090041csv\\ncodepre\\npim not sure how to pick it up as an input file instead of hardcoded in my scriptp\\npre classlangperl prettyprintoverridecode#usrbinperl\\n\\nuse strict use warnings\\nuse tiearraycsv\\nuse datadumper\\nuse dateparse\\nuse posix qwstrftime\\n\\nmy hours  1\\nmy timenow  time\\nmy inputfile  quotsessions_record_20210914_090041csvquot\\n\\ntie my sessions_record tiearraycsv inputfile \\n   tie_file gt  recsep gt quotrnquot \\n   text_csv gt  binary gt 1 \\n\\n\\ntie my incidentidlist tiearraycsv incidentidlistcsv\\n\\nincidentidlist  map \\n   _4  as+ _4 _18 timenow \\nstr2time_18  60  60\\n grep  \\n   _0  serviceinc ampamp timenow  str2time_18  60  60 gt hours \\n sessions_record\\ncodepre\\n</td>\n",
       "      <td>[-0.0760977, -0.034530003, -0.04957246, 0.043606203, 0.044841856, -0.061855547, -0.052803148, -0.011632038, -0.06591626, 0.025860844, 0.03919661, -0.027817246, -0.022171646, -0.02736767, -0.008720726, 0.07837969, -0.042001948, 0.027343841, -0.028169192, -0.05705432, -0.018884066, -0.031689294, 0.06528327, 0.0052516707, 0.04814098, -0.060386106, -0.05609248, 0.036682826, -0.032594405, -0.023002613, -0.026992006, 0.002328767, -0.050124116, 0.07129112, 0.00350552, 0.033287495, 0.014013985, -0.058945395, -0.018432615, 0.04393771, 0.02278047, 0.031182606, -0.003012592, -0.035847545, 0.078313045, 0.06479484, -0.04120184, -0.024568418, 0.010452449, -0.023469616, 0.019783543, 0.034642052, -0.0721288, -0.01971749, -0.048229646, -0.06273153, -0.059028126, -0.04986402, -0.018131113, -0.047850486, 0.017070694, -0.06198542, -0.015068059, 0.009211324, -0.012157592, 0.03769624, -0.024937484, -0.059218016, -0.037714604, -0.06726731, 0.0019239603, -0.07758158, 0.0144723, 0.07309194, 0.0125359455, 0.060987044, -0.07137362, -0.021512674, 0.02659775, 0.014266364, 0.0062940945, 0.05777822, 0.069771536, -0.058972027, 0.0636158, -0.009690753, -0.025186272, 0.058373082, -0.05078806, -0.03473624, 0.048976794, 0.030649459, -0.0063130436, 0.016982583, -0.044877157, 0.0491046, 0.014691045, 0.015387835, -0.036790896, -0.07589167, ...]</td>\n",
       "    </tr>\n",
       "    <tr>\n",
       "      <th>15952</th>\n",
       "      <td>69358643</td>\n",
       "      <td>1</td>\n",
       "      <td>2275</td>\n",
       "      <td>1</td>\n",
       "      <td>2021-09-28 08:54:22</td>\n",
       "      <td>[java]</td>\n",
       "      <td>javanetconnectexception operation timed out connection timed out while connecting mysql docker from local machine pim trying to connect to a mysql container thats running on local maching using a scala code for some reason im getting either operation time outdockerip or connection refused errorlocalhost127001p\\nprecodedocker run namemysqldocker p33063306 e mysql_root_passwordroot d mysqllatest\\ndocker exec it mysqldocker bash\\nmysql u root p\\nupdate mysqluser set host  127001 where userroot\\ncodepre\\npim able to connect to docker from terminal using codemysql h 127001 p 3306 u root pcodep\\npbelow is my scala codep\\nprecode  val url  quotjdbcmysql17217023006mysqlquot\\n  val driver  quotcommysqljdbcdriverquot\\n  val username  quotrootquot\\n  val password  quotrootquot\\n  classfornamequotcommysqljdbcdriverquot\\n  val connection  drivermanagergetconnectionurl username password\\n  val statement  connectioncreatestatement\\n  val rs  statementexecutequeryquotselect host user from userquot\\n  connectionclose\\ncodepre\\npunfortunately this code throws thep\\nprecode\\nthe last packet sent successfully to the server was 0 milliseconds ago the driver has not received any packets from the server\\n        at commysqlcjjdbcexceptionssqlerrorcreatecommunicationsexceptionsqlerrorjava174\\n        at commysqlcjjdbcexceptionssqlexceptionsmappingtranslateexceptionsqlexceptionsmappingjava64\\n        at commysqlcjjdbcconnectionimplcreatenewioconnectionimpljava828\\n        at commysqlcjjdbcconnectionimplltinitgtconnectionimpljava448\\n        at commysqlcjjdbcconnectionimplgetinstanceconnectionimpljava241\\n        at commysqlcjjdbcnonregisteringdriverconnectnonregisteringdriverjava198\\n        at javasqldrivermanagergetconnectiondrivermanagerjava664\\n        at javasqldrivermanagergetconnectiondrivermanagerjava247\\n        at largedataprocessorlargedataprocessordelayedendpointlargedataprocessorlargedataprocessor1largedataprocessorscala35\\n        at largedataprocessorlargedataprocessordelayedinitbodyapplylargedataprocessorscala9\\n        at scalafunction0applymcvspfunction0scala39\\n        at scalafunction0applymcvspfunction0scala39\\n        at scalaruntimeabstractfunction0applymcvspabstractfunction0scala17\\n        at scalaappanonfunmain1applyappscala76\\n        at scalaappanonfunmain1applyappscala76\\n        at scalacollectionimmutablelistforeachlistscala431\\n        at scalacollectiongenerictraversableforwarderclassforeachtraversableforwarderscala35\\n        at scalaappclassmainappscala76\\n        at largedataprocessorlargedataprocessormainlargedataprocessorscala9\\n        at largedataprocessorlargedataprocessormainlargedataprocessorscala\\ncaused by commysqlcjexceptionscjcommunicationsexception communications link failure\\n\\nthe last packet sent successfully to the server was 0 milliseconds ago the driver has not received any packets from the server\\n        at sunreflectnativeconstructoraccessorimplnewinstance0native method\\n        at sunreflectnativeconstructoraccessorimplnewinstancenativeconstructoraccessorimpljava62\\n        at sunreflectdelegatingconstructoraccessorimplnewinstancedelegatingconstructoraccessorimpljava45\\n        at javalangreflectconstructornewinstanceconstructorjava423\\n        at commysqlcjexceptionsexceptionfactorycreateexceptionexceptionfactoryjava61\\n        at commysqlcjexceptionsexceptionfactorycreateexceptionexceptionfactoryjava105\\n        at commysqlcjexceptionsexceptionfactorycreateexceptionexceptionfactoryjava151\\n        at commysqlcjexceptionsexceptionfactorycreatecommunicationsexceptionexceptionfactoryjava167\\n        at commysqlcjprotocolanativesocketconnectionconnectnativesocketconnectionjava89\\n        at commysqlcjnativesessionconnectnativesessionjava119\\n        at commysqlcjjdbcconnectionimplconnectonetryonlyconnectionimpljava948\\n        at commysqlcjjdbcconnectionimplcreatenewioconnectionimpljava818\\n         17 more\\ncaused by javanetconnectexception operation timed out connection timed out\\n        at javanetplainsocketimplsocketconnectnative method\\n        at javanetabstractplainsocketimpldoconnectabstractplainsocketimpljava350\\n        at javanetabstractplainsocketimplconnecttoaddressabstractplainsocketimpljava206\\n        at javanetabstractplainsocketimplconnectabstractplainsocketimpljava188\\n        at javanetsockssocketimplconnectsockssocketimpljava392\\n        at javanetsocketconnectsocketjava607\\n        at commysqlcjprotocolstandardsocketfactoryconnectstandardsocketfactoryjava156\\n        at commysqlcjprotocolanativesocketconnectionconnectnativesocketconnectionjava63\\n         20 more\\ncodepre\\npinstead if i use quotjdbcmysql1270013006mysqlquot i get a connection refused errorp\\npplease point out my mistakep\\n</td>\n",
       "      <td>[-0.04345558, 0.058617216, -0.0546204, -0.04210585, 0.006203403, 0.017953465, 0.028638432, 0.03639948, 0.045739736, 0.04921277, -0.016979013, -0.03669908, 0.0458285, 0.056195516, 0.008191906, 0.061509605, 0.02130913, 0.02392204, 0.034647968, -0.05056436, 0.0036224546, 0.055498548, -0.0053735576, -0.013861938, -0.0014562329, 0.04527164, 0.05718668, 0.010458905, -0.051892005, -0.054003343, 0.05858091, -0.012027378, -0.057898454, 0.021946406, -0.01261462, -0.034405053, 0.053295095, -0.022685407, 0.006616335, 0.05214402, -0.052757278, 0.00525691, 0.005193981, -0.03478618, 0.061509605, -0.057345532, -0.05616268, 0.043599095, -0.042421907, -0.06069847, -0.037042055, 0.035921175, -0.043016076, -0.05886859, -0.056662343, -0.033061292, -0.06124459, -0.05980566, -0.03785816, -0.016397148, 0.0343363, -0.05268096, -0.060737662, 0.052336242, -0.060610194, -0.061446197, -0.028574955, 0.04562065, -0.018348223, -0.040941022, -0.061016664, -0.050217867, 0.0114251925, 0.010204282, -0.009205223, -0.031109422, 0.059935648, -0.043304674, 0.034045104, 0.056965314, 0.058091428, -0.055340916, -0.058538187, -0.0013816387, 0.025559979, 0.03539595, -0.054451343, 0.0517506, 0.0612128, -0.058191385, -0.043077886, -0.0121982675, -0.05061953, -0.019029802, -0.05708902, 0.017673424, 0.0550626, 0.04099798, -0.055565175, -0.061376877, ...]</td>\n",
       "    </tr>\n",
       "    <tr>\n",
       "      <th>7237</th>\n",
       "      <td>69116380</td>\n",
       "      <td>0</td>\n",
       "      <td>1205</td>\n",
       "      <td>1</td>\n",
       "      <td>2021-09-09 10:15:56</td>\n",
       "      <td>[python]</td>\n",
       "      <td>add liveness probe to rest api pi have a rest api python based the underlying logic calls an oracle procedure that refreshes certain materialized views the application is hosted on openshift container platform now sometimes the app gets stuck on this step refresh materialized views\\nis there a way to add a liveness probe here that restarts the container if the app remains stuck at this step for some amount of time say 2 hoursp\\n</td>\n",
       "      <td>[-0.043955952, -0.023151936, -0.05438789, -0.054733235, -0.0159155, -0.06434162, 0.00710413, 0.0109688295, 0.022277862, 0.06985796, -0.027365819, 0.06508401, 0.01911564, 0.07105387, -0.06394465, 0.07233124, 0.02873309, 0.05007735, 0.012628291, 0.047791656, -0.054241776, 0.058894098, 0.032706182, 0.047433786, 0.052820895, 0.069505386, -0.05631279, -0.029646235, -0.017951433, -0.04695314, -0.019764673, -0.038656943, -0.060605835, -0.0203141, -0.0016637237, 0.01807365, 0.034147352, 0.060222074, -0.05334978, -0.0033453724, 0.06402796, -0.020089975, -0.009552026, -0.042986102, 0.07231267, 0.02039406, -0.038107134, 0.06873809, 0.024868269, -0.03337336, -0.05945032, 0.06875469, 0.048376407, -0.03143254, -0.07190735, 0.032437563, -0.011766796, 0.048035182, 0.03786945, 0.05100573, 0.03289986, -0.06971936, 0.023229238, 0.037801523, -0.06439375, -0.041263863, 0.06286956, -0.017755542, -0.05133216, -0.0093486225, -0.07226737, -0.05874383, -0.028569095, 0.026248313, -0.049797967, -0.0383904, 0.06950327, -0.013482494, -0.0404024, 0.06486178, 0.044995252, -0.04746435, -0.07114917, 0.011070204, 0.055661436, -0.060831815, -0.021607079, -0.050971508, 0.04341377, -0.058082473, -0.026585342, 0.007408191, -0.045891903, 0.04736873, -0.060975555, -0.059237473, 0.061015587, -0.015640117, -0.06798052, -0.072009936, ...]</td>\n",
       "    </tr>\n",
       "    <tr>\n",
       "      <th>10339</th>\n",
       "      <td>69203610</td>\n",
       "      <td>0</td>\n",
       "      <td>175</td>\n",
       "      <td>1</td>\n",
       "      <td>2021-09-16 06:51:50</td>\n",
       "      <td>[android]</td>\n",
       "      <td>constraining a edittext view to a checkbox programmatically in android pwhat i am trying here is when the emaddnewtodo buttonem is clicked the emdefaultedittextem view should be converted from edittext view into a checkbox view with the same constraints as the defaultedittext and i am quite successful in doing so using the constraintlayoutparamsp\\npbut what i also want is that at the same time when the button is clicked stronga newedittext should be created with the same properties as the previous oneedittextstrong and place at the bottom of the checkbox that is created programmatically and also the strongaddnewtodo button should go below the newedittextstrongp\\npstrongbelow code succeeds atstrongp\\npemcreating the checkbox with the intended propertiesbr \\ncreating a new edittext view with the right width and heightbr \\nconstraining the button below the newly created edittextemp\\npstrongfails atstrongp\\npemconstraining the newedittext view below the checkbox thats been createdemp\\npstrongthe output i am getting is thatstrongp\\npstrongthe newedittext is getting placed at the top left corner of the uistrong i learned that the views get placed there if it isnt constraint properlyp\\npa hrefhttpsisstaticnetat2wipng relnofollow noreferrerimg srchttpsisstaticnetat2wipng altenter image description here ap\\nprecode    button addnewtodo  findviewbyidridaddnewtodo\\n    addnewtodosetonclicklistenernew viewonclicklistener \\n\\n        override\\n        public void onclickview v \\n\\n                checkbox todocheckbox  new checkboxmainactivitythis\\n                todocheckboxsettextdefaultedittextgettexttostring\\n                todocheckboxsettextsize20\\n                todocheckboxsetidviewgenerateviewid\\n\\n                constraintlayoutlayoutparams params  constraintlayoutlayoutparams defaultedittextgetlayoutparams\\n\\n                constraintlayoutlayoutparams newparams  new constraintlayoutlayoutparams\\n                        constraintlayoutlayoutparamsmatch_parent\\n                        constraintlayoutlayoutparamsmatch_parent\\n                \\n\\n                newparamswidth  paramswidth\\n                newparamsheight  paramsheight\\n                newparamsstarttostart  paramsstarttostart\\n                newparamslefttoleft  paramslefttoleft\\n                newparamstoptotop  paramstoptotop\\n                newparamsleftmargin  paramsleftmargin\\n                newparamstopmargin  paramstopmargin\\n\\n                constraintlayoutaddviewtodocheckbox1newparams\\n                defaultedittextsetvisibilityviewinvisible\\n\\n                creating a new edittext\\n                edittext newedittext  new edittextmainactivitythis\\n                newedittextsetwidthdefaultedittextgetwidth\\n                newedittextsetheightdefaultedittextgetheight\\n                newedittextsetidviewgenerateviewid\\n\\n                constraintsetcloneconstraintlayout\\n                constraintsetconnectnewedittextgetidconstraintsetstarttodocheckboxgetidconstraintsetstart\\n                constraintsetconnectnewedittextgetidconstraintsetendtodocheckboxgetidconstraintsetend\\n                constraintsetconnectnewedittextgetidconstraintsettoptodocheckboxgetidconstraintsetbottom\\n                constraintsetconnectaddnewtodogetidconstraintsettopnewedittextgetidconstraintsetbottom\\n\\n                constraintsetapplytoconstraintlayout\\n                constraintlayoutaddviewnewedittext\\n\\n\\n        \\n\\n    \\ncodepre\\nh3how to constraint the newedittext to the checkboxh3\\npstrongfyi i am the using contraintlayout within the scrollviewstrongp\\n</td>\n",
       "      <td>[-0.053296525, -0.064408325, 0.015093507, 0.026235342, -0.04731692, 0.056355704, -0.031125901, -0.023299783, -0.03398903, 0.061473865, 0.014764134, 0.047701873, 0.06124561, 0.06583153, -0.06368977, 0.06593591, -0.06008914, 0.024139281, 0.008004103, -0.016593913, -0.032423664, -0.007638913, 0.021321649, 0.047418017, 0.0065048067, 0.06587279, -0.06534497, 0.05388195, 0.03761205, -0.028294055, -0.005641418, -0.06311832, 0.06593422, -0.03074147, -0.004492615, 0.05967823, 0.04019334, 0.06352182, -0.0005781578, -0.0051233424, 0.065698, -0.03852825, 0.035280976, -0.008484331, 0.06593586, -0.05099616, -0.061287344, -0.009928239, -0.037965965, -0.051153485, -0.030230472, 0.06471479, 0.050972268, -0.040965192, -0.063776314, 0.013729785, -0.036954615, -0.04085626, 0.030186536, 0.06519111, -0.056354072, -0.06478815, -0.027574481, 0.006920729, -0.026437689, -0.0621702, 0.06183791, 0.04529176, 0.06353737, -0.016629035, -0.06593534, 0.059336748, 0.03510118, 0.032087162, -0.06289923, -0.032819267, 0.021128166, -0.0063206144, 0.033092976, 0.049273312, -0.004334203, 0.034304574, 0.01353675, 0.019984297, 0.062540546, -0.043342907, 0.011840198, 0.061226178, 0.027411692, -0.05438554, -0.03762494, -0.005976622, 0.03067532, -0.061049588, 0.038077626, -0.0026606594, 0.0212778, 0.010273176, 0.059355345, -0.06592281, ...]</td>\n",
       "    </tr>\n",
       "  </tbody>\n",
       "</table>\n",
       "</div>"
      ],
      "text/plain": [
       "             Id  Score  ViewCount  AnswerCount         CreationDate  \\\n",
       "41373  65540389      0        356            1  2021-01-02 14:48:42   \n",
       "9410   69178271      0         97            2  2021-09-14 12:59:42   \n",
       "15952  69358643      1       2275            1  2021-09-28 08:54:22   \n",
       "7237   69116380      0       1205            1  2021-09-09 10:15:56   \n",
       "10339  69203610      0        175            1  2021-09-16 06:51:50   \n",
       "\n",
       "      clean_tags  \\\n",
       "41373     [java]   \n",
       "9410      [html]   \n",
       "15952     [java]   \n",
       "7237    [python]   \n",
       "10339  [android]   \n",
       "\n",
       "                                                                                                                                                                                                                                                                                                                                                                                                                                                                                                                                                                                                                                                                                                                                                                                                                                                                                                                                                                                                                                                                                                                                                                                                                                                                                                                                                                                                                                                                                                                                                                                                                                                                                                                                                                                                                                                                                                                                                                                                                                                                                                                                                                                                                                                                                                                                                                                                                                                                                                                                                                                                                                                                                                                                                                                                                                                                                                                                                                                                                                                                                                                                                                                                                                                                                                                                                                                                                                                                                                                                                                                                                                                                                                                                                                                                                                                                                                                                                                                                                                                                                                                                                                                                                                                                                                                                                                                                                                                                                                                                                                                                                                                                                                                                                                                                                                                                                                              cleaned_title_body  \\\n",
       "41373                                                                                                                                                                                                                                                                                                                                                                                                                                                                                                                                                                                                                                                                                                                                                                                                                                                                                                                                                                                                                                                                                                                                                                                                                                                                                                                                                                                                                                                                                                                                                                                                                                                                                                                                          classloader failed locating my properties file pmy problem is when i use this code in ide such as eclipse it works well  but when i use it in tomcat server it doesnt work this is a part of java servlet application i dont use maven or spring p\\nprecodepublic class daofactory \\n    private final static string property_driver  quotdriverquot\\n    private final static string property_user_name  quotusernamequot\\n    private final static string property_passwd  quotpasswdquot\\n    private final static string property_db_name  quotdbnamequot\\n    private final static string property_url  quoturlquot\\n    private final static string file_properties  quotcomdaodbinfospropertiesquot\\n    \\n    private string url\\n    private string passwd\\n    \\n    private string username\\n    \\n    \\n      \\n      param url\\n      param passwd\\n      param username\\n     \\n    public daofactorystring urlstring passwdstring username\\n    \\n        thisurl  url\\n        thispasswd  passwd\\n        thisusername  username\\n    \\n    \\n      \\n      return\\n      throws daoconfigurationexception\\n     \\n    public static daofactory getinstancethrows daoconfigurationexception\\n    \\n        properties properties  new properties\\n        string passwd\\n        string url\\n        string username\\n        string driver \\n\\n        classloader loader  threadcurrentthreadgetcontextclassloader\\n        inputstream input   loadergetresourceasstreamfile_properties\\n        \\n        ifinput  null\\n            throw new daoconfigurationexceptionquotproperties file not exist exceptionquot\\n        try\\n        \\n            propertiesloadinput\\n            \\n            url  propertiesgetpropertyproperty_url\\n            passwd  propertiesgetpropertyproperty_passwd\\n            \\n            username  propertiesgetpropertyproperty_user_name\\n            driver  propertiesgetpropertyproperty_driver   \\n        \\n        catchioexception e\\n        \\n            throw new daoconfigurationexceptionquotproperties file loading exception quote\\n        \\n        \\n        try\\n        \\n            classfornamedriver\\n        \\n        catchclassnotfoundexception e\\n        \\n            throw new daoconfigurationexceptionquot driver loading error quote\\n        \\n        \\n        return new daofactoryurlpasswdusername\\n    \\n    \\n    public connection getconnectionthrows daoconfigurationexception\\n    \\n        try\\n        \\n            return drivermanagergetconnectionurlusernamepasswd\\n        catchsqlexception e\\n        \\n            throw new daoconfigurationexceptionquotconnection failed to be createdquote\\n        \\n    \\n    \\n    \\n      \\n      return\\n     \\n    public unitedao getunite\\n    \\n        return new uniteimpldaothis\\n    \\n\\ncodepre\\npalways throws quotproperties file not exist exceptionquot the message in the if statement abovep\\npthe hierarchy of the package isp\\nprecodesrc\\n _ com\\n    _ dao\\n        _ daofactory\\n        _ dbinfosproperties \\nwebinf\\n  _ \\n      \\n      \\n      \\ncodepre\\npplease could you help p\\n   \n",
       "9410                                                                                                                                                                                                                                                                                                                                                                                                                                                                                                                                                                                                                                                                                                                                                                                                                                                                                                                                                                                                                                                                                                                                                                                                                                                                                                                                                                                                                                                                                                                                                                                                                                                                                                                                                                                                                                                                                                                                                                                                                                                                                                                                                                                                                                                                                                                                                                                                                                                                                                                                                                                                                                                                                                                                                                                                                                                                                                                                                                                                                                                                                                                                                                                                                                                                                                                                                                                                                                                                                                                                                                                                                                                                                                                                                                                                                                                                            my input file date format changes on daily basis pi need help please my codeinputfilecode changes on daily basis which gets generated and store under codetmpcode directory file format date as followsp\\nprecodetmp\\n570572 sep 13 2102 sessions_record_20210913_210052csv\\n570788 sep 14 0901 sessions_record_20210914_090041csv\\ncodepre\\npim not sure how to pick it up as an input file instead of hardcoded in my scriptp\\npre classlangperl prettyprintoverridecode#usrbinperl\\n\\nuse strict use warnings\\nuse tiearraycsv\\nuse datadumper\\nuse dateparse\\nuse posix qwstrftime\\n\\nmy hours  1\\nmy timenow  time\\nmy inputfile  quotsessions_record_20210914_090041csvquot\\n\\ntie my sessions_record tiearraycsv inputfile \\n   tie_file gt  recsep gt quotrnquot \\n   text_csv gt  binary gt 1 \\n\\n\\ntie my incidentidlist tiearraycsv incidentidlistcsv\\n\\nincidentidlist  map \\n   _4  as+ _4 _18 timenow \\nstr2time_18  60  60\\n grep  \\n   _0  serviceinc ampamp timenow  str2time_18  60  60 gt hours \\n sessions_record\\ncodepre\\n   \n",
       "15952  javanetconnectexception operation timed out connection timed out while connecting mysql docker from local machine pim trying to connect to a mysql container thats running on local maching using a scala code for some reason im getting either operation time outdockerip or connection refused errorlocalhost127001p\\nprecodedocker run namemysqldocker p33063306 e mysql_root_passwordroot d mysqllatest\\ndocker exec it mysqldocker bash\\nmysql u root p\\nupdate mysqluser set host  127001 where userroot\\ncodepre\\npim able to connect to docker from terminal using codemysql h 127001 p 3306 u root pcodep\\npbelow is my scala codep\\nprecode  val url  quotjdbcmysql17217023006mysqlquot\\n  val driver  quotcommysqljdbcdriverquot\\n  val username  quotrootquot\\n  val password  quotrootquot\\n  classfornamequotcommysqljdbcdriverquot\\n  val connection  drivermanagergetconnectionurl username password\\n  val statement  connectioncreatestatement\\n  val rs  statementexecutequeryquotselect host user from userquot\\n  connectionclose\\ncodepre\\npunfortunately this code throws thep\\nprecode\\nthe last packet sent successfully to the server was 0 milliseconds ago the driver has not received any packets from the server\\n        at commysqlcjjdbcexceptionssqlerrorcreatecommunicationsexceptionsqlerrorjava174\\n        at commysqlcjjdbcexceptionssqlexceptionsmappingtranslateexceptionsqlexceptionsmappingjava64\\n        at commysqlcjjdbcconnectionimplcreatenewioconnectionimpljava828\\n        at commysqlcjjdbcconnectionimplltinitgtconnectionimpljava448\\n        at commysqlcjjdbcconnectionimplgetinstanceconnectionimpljava241\\n        at commysqlcjjdbcnonregisteringdriverconnectnonregisteringdriverjava198\\n        at javasqldrivermanagergetconnectiondrivermanagerjava664\\n        at javasqldrivermanagergetconnectiondrivermanagerjava247\\n        at largedataprocessorlargedataprocessordelayedendpointlargedataprocessorlargedataprocessor1largedataprocessorscala35\\n        at largedataprocessorlargedataprocessordelayedinitbodyapplylargedataprocessorscala9\\n        at scalafunction0applymcvspfunction0scala39\\n        at scalafunction0applymcvspfunction0scala39\\n        at scalaruntimeabstractfunction0applymcvspabstractfunction0scala17\\n        at scalaappanonfunmain1applyappscala76\\n        at scalaappanonfunmain1applyappscala76\\n        at scalacollectionimmutablelistforeachlistscala431\\n        at scalacollectiongenerictraversableforwarderclassforeachtraversableforwarderscala35\\n        at scalaappclassmainappscala76\\n        at largedataprocessorlargedataprocessormainlargedataprocessorscala9\\n        at largedataprocessorlargedataprocessormainlargedataprocessorscala\\ncaused by commysqlcjexceptionscjcommunicationsexception communications link failure\\n\\nthe last packet sent successfully to the server was 0 milliseconds ago the driver has not received any packets from the server\\n        at sunreflectnativeconstructoraccessorimplnewinstance0native method\\n        at sunreflectnativeconstructoraccessorimplnewinstancenativeconstructoraccessorimpljava62\\n        at sunreflectdelegatingconstructoraccessorimplnewinstancedelegatingconstructoraccessorimpljava45\\n        at javalangreflectconstructornewinstanceconstructorjava423\\n        at commysqlcjexceptionsexceptionfactorycreateexceptionexceptionfactoryjava61\\n        at commysqlcjexceptionsexceptionfactorycreateexceptionexceptionfactoryjava105\\n        at commysqlcjexceptionsexceptionfactorycreateexceptionexceptionfactoryjava151\\n        at commysqlcjexceptionsexceptionfactorycreatecommunicationsexceptionexceptionfactoryjava167\\n        at commysqlcjprotocolanativesocketconnectionconnectnativesocketconnectionjava89\\n        at commysqlcjnativesessionconnectnativesessionjava119\\n        at commysqlcjjdbcconnectionimplconnectonetryonlyconnectionimpljava948\\n        at commysqlcjjdbcconnectionimplcreatenewioconnectionimpljava818\\n         17 more\\ncaused by javanetconnectexception operation timed out connection timed out\\n        at javanetplainsocketimplsocketconnectnative method\\n        at javanetabstractplainsocketimpldoconnectabstractplainsocketimpljava350\\n        at javanetabstractplainsocketimplconnecttoaddressabstractplainsocketimpljava206\\n        at javanetabstractplainsocketimplconnectabstractplainsocketimpljava188\\n        at javanetsockssocketimplconnectsockssocketimpljava392\\n        at javanetsocketconnectsocketjava607\\n        at commysqlcjprotocolstandardsocketfactoryconnectstandardsocketfactoryjava156\\n        at commysqlcjprotocolanativesocketconnectionconnectnativesocketconnectionjava63\\n         20 more\\ncodepre\\npinstead if i use quotjdbcmysql1270013006mysqlquot i get a connection refused errorp\\npplease point out my mistakep\\n   \n",
       "7237                                                                                                                                                                                                                                                                                                                                                                                                                                                                                                                                                                                                                                                                                                                                                                                                                                                                                                                                                                                                                                                                                                                                                                                                                                                                                                                                                                                                                                                                                                                                                                                                                                                                                                                                                                                                                                                                                                                                                                                                                                                                                                                                                                                                                                                                                                                                                                                                                                                                                                                                                                                                                                                                                                                                                                                                                                                                                                                                                                                                                                                                                                                                                                                                                                                                                                                                                                                                                                                                                                                                                                                                                                                                                                                                                                                                                                                                                                                                                                                                                                                                                                                                                                                                                                                                                                                                                                                                                                                                            add liveness probe to rest api pi have a rest api python based the underlying logic calls an oracle procedure that refreshes certain materialized views the application is hosted on openshift container platform now sometimes the app gets stuck on this step refresh materialized views\\nis there a way to add a liveness probe here that restarts the container if the app remains stuck at this step for some amount of time say 2 hoursp\\n   \n",
       "10339                                                                                                                                                                                                                                                                                                                                                                                                                                                                                                                                                                                                                                                                                                                                                                                                                                                                                                                                                                                                                                                                                                                                                                            constraining a edittext view to a checkbox programmatically in android pwhat i am trying here is when the emaddnewtodo buttonem is clicked the emdefaultedittextem view should be converted from edittext view into a checkbox view with the same constraints as the defaultedittext and i am quite successful in doing so using the constraintlayoutparamsp\\npbut what i also want is that at the same time when the button is clicked stronga newedittext should be created with the same properties as the previous oneedittextstrong and place at the bottom of the checkbox that is created programmatically and also the strongaddnewtodo button should go below the newedittextstrongp\\npstrongbelow code succeeds atstrongp\\npemcreating the checkbox with the intended propertiesbr \\ncreating a new edittext view with the right width and heightbr \\nconstraining the button below the newly created edittextemp\\npstrongfails atstrongp\\npemconstraining the newedittext view below the checkbox thats been createdemp\\npstrongthe output i am getting is thatstrongp\\npstrongthe newedittext is getting placed at the top left corner of the uistrong i learned that the views get placed there if it isnt constraint properlyp\\npa hrefhttpsisstaticnetat2wipng relnofollow noreferrerimg srchttpsisstaticnetat2wipng altenter image description here ap\\nprecode    button addnewtodo  findviewbyidridaddnewtodo\\n    addnewtodosetonclicklistenernew viewonclicklistener \\n\\n        override\\n        public void onclickview v \\n\\n                checkbox todocheckbox  new checkboxmainactivitythis\\n                todocheckboxsettextdefaultedittextgettexttostring\\n                todocheckboxsettextsize20\\n                todocheckboxsetidviewgenerateviewid\\n\\n                constraintlayoutlayoutparams params  constraintlayoutlayoutparams defaultedittextgetlayoutparams\\n\\n                constraintlayoutlayoutparams newparams  new constraintlayoutlayoutparams\\n                        constraintlayoutlayoutparamsmatch_parent\\n                        constraintlayoutlayoutparamsmatch_parent\\n                \\n\\n                newparamswidth  paramswidth\\n                newparamsheight  paramsheight\\n                newparamsstarttostart  paramsstarttostart\\n                newparamslefttoleft  paramslefttoleft\\n                newparamstoptotop  paramstoptotop\\n                newparamsleftmargin  paramsleftmargin\\n                newparamstopmargin  paramstopmargin\\n\\n                constraintlayoutaddviewtodocheckbox1newparams\\n                defaultedittextsetvisibilityviewinvisible\\n\\n                creating a new edittext\\n                edittext newedittext  new edittextmainactivitythis\\n                newedittextsetwidthdefaultedittextgetwidth\\n                newedittextsetheightdefaultedittextgetheight\\n                newedittextsetidviewgenerateviewid\\n\\n                constraintsetcloneconstraintlayout\\n                constraintsetconnectnewedittextgetidconstraintsetstarttodocheckboxgetidconstraintsetstart\\n                constraintsetconnectnewedittextgetidconstraintsetendtodocheckboxgetidconstraintsetend\\n                constraintsetconnectnewedittextgetidconstraintsettoptodocheckboxgetidconstraintsetbottom\\n                constraintsetconnectaddnewtodogetidconstraintsettopnewedittextgetidconstraintsetbottom\\n\\n                constraintsetapplytoconstraintlayout\\n                constraintlayoutaddviewnewedittext\\n\\n\\n        \\n\\n    \\ncodepre\\nh3how to constraint the newedittext to the checkboxh3\\npstrongfyi i am the using contraintlayout within the scrollviewstrongp\\n   \n",
       "\n",
       "                                                                                                                                                                                                                                                                                                                                                                                                                                                                                                                                                                                                                                                                                                                                                                                                                                                                                                                                                                                                                                                                                                                                                                                                                                                                                                                                                                                   use_embedding  \n",
       "41373  [0.0048554507, 0.059991304, 0.0037320948, -0.022414876, -0.004395243, 0.06207861, -0.010488719, 0.04022778, -0.0052122087, 0.006831076, -0.053158846, -0.044050757, -0.000689589, -0.018186724, 0.042888343, 0.062080808, 0.003936201, 0.039108716, 0.042623002, -0.061702892, 0.05877948, 0.03519368, 0.028903468, -0.043036275, 0.044198114, -0.028579023, 0.024639383, -0.0022364168, -0.00409031, 0.041253723, 0.024413384, -0.042448655, -0.053724915, 0.033079702, -0.057178132, -0.037150268, 0.040881615, 0.00084329187, -0.051970135, 0.0017846497, -0.02512873, 0.0025065881, -0.0008668324, 0.01912972, 0.062080808, 0.012536691, -0.05958509, 0.0081347395, 0.026695643, 0.043170556, 0.057485282, -0.050244536, -0.06124301, -0.056715548, 0.0021106463, -0.058976635, -0.042187516, 0.025570732, 0.04461442, 0.009299339, 0.060621087, -0.056595616, -0.054686125, 0.0406519, 0.025058806, -0.056802835, -0.054867383, 0.022152903, 0.062080387, -0.03314896, -0.062080678, 0.0060087848, 0.05946455, -0.03204498, -0.013763372, 0.06191176, -0.05487201, -0.027242782, 0.04647543, -0.012140978, 0.054884214, 0.0006041759, -0.020319074, 0.020447478, 0.06208063, -0.03123577, -0.05812132, 0.05907467, 0.060312774, -0.009305263, 0.01604148, -0.04813303, -0.05664533, 0.049763884, -0.0366851, -0.021827126, -0.0028892884, 0.0392236, -0.05669133, -0.062074065, ...]  \n",
       "9410             [-0.0760977, -0.034530003, -0.04957246, 0.043606203, 0.044841856, -0.061855547, -0.052803148, -0.011632038, -0.06591626, 0.025860844, 0.03919661, -0.027817246, -0.022171646, -0.02736767, -0.008720726, 0.07837969, -0.042001948, 0.027343841, -0.028169192, -0.05705432, -0.018884066, -0.031689294, 0.06528327, 0.0052516707, 0.04814098, -0.060386106, -0.05609248, 0.036682826, -0.032594405, -0.023002613, -0.026992006, 0.002328767, -0.050124116, 0.07129112, 0.00350552, 0.033287495, 0.014013985, -0.058945395, -0.018432615, 0.04393771, 0.02278047, 0.031182606, -0.003012592, -0.035847545, 0.078313045, 0.06479484, -0.04120184, -0.024568418, 0.010452449, -0.023469616, 0.019783543, 0.034642052, -0.0721288, -0.01971749, -0.048229646, -0.06273153, -0.059028126, -0.04986402, -0.018131113, -0.047850486, 0.017070694, -0.06198542, -0.015068059, 0.009211324, -0.012157592, 0.03769624, -0.024937484, -0.059218016, -0.037714604, -0.06726731, 0.0019239603, -0.07758158, 0.0144723, 0.07309194, 0.0125359455, 0.060987044, -0.07137362, -0.021512674, 0.02659775, 0.014266364, 0.0062940945, 0.05777822, 0.069771536, -0.058972027, 0.0636158, -0.009690753, -0.025186272, 0.058373082, -0.05078806, -0.03473624, 0.048976794, 0.030649459, -0.0063130436, 0.016982583, -0.044877157, 0.0491046, 0.014691045, 0.015387835, -0.036790896, -0.07589167, ...]  \n",
       "15952            [-0.04345558, 0.058617216, -0.0546204, -0.04210585, 0.006203403, 0.017953465, 0.028638432, 0.03639948, 0.045739736, 0.04921277, -0.016979013, -0.03669908, 0.0458285, 0.056195516, 0.008191906, 0.061509605, 0.02130913, 0.02392204, 0.034647968, -0.05056436, 0.0036224546, 0.055498548, -0.0053735576, -0.013861938, -0.0014562329, 0.04527164, 0.05718668, 0.010458905, -0.051892005, -0.054003343, 0.05858091, -0.012027378, -0.057898454, 0.021946406, -0.01261462, -0.034405053, 0.053295095, -0.022685407, 0.006616335, 0.05214402, -0.052757278, 0.00525691, 0.005193981, -0.03478618, 0.061509605, -0.057345532, -0.05616268, 0.043599095, -0.042421907, -0.06069847, -0.037042055, 0.035921175, -0.043016076, -0.05886859, -0.056662343, -0.033061292, -0.06124459, -0.05980566, -0.03785816, -0.016397148, 0.0343363, -0.05268096, -0.060737662, 0.052336242, -0.060610194, -0.061446197, -0.028574955, 0.04562065, -0.018348223, -0.040941022, -0.061016664, -0.050217867, 0.0114251925, 0.010204282, -0.009205223, -0.031109422, 0.059935648, -0.043304674, 0.034045104, 0.056965314, 0.058091428, -0.055340916, -0.058538187, -0.0013816387, 0.025559979, 0.03539595, -0.054451343, 0.0517506, 0.0612128, -0.058191385, -0.043077886, -0.0121982675, -0.05061953, -0.019029802, -0.05708902, 0.017673424, 0.0550626, 0.04099798, -0.055565175, -0.061376877, ...]  \n",
       "7237                        [-0.043955952, -0.023151936, -0.05438789, -0.054733235, -0.0159155, -0.06434162, 0.00710413, 0.0109688295, 0.022277862, 0.06985796, -0.027365819, 0.06508401, 0.01911564, 0.07105387, -0.06394465, 0.07233124, 0.02873309, 0.05007735, 0.012628291, 0.047791656, -0.054241776, 0.058894098, 0.032706182, 0.047433786, 0.052820895, 0.069505386, -0.05631279, -0.029646235, -0.017951433, -0.04695314, -0.019764673, -0.038656943, -0.060605835, -0.0203141, -0.0016637237, 0.01807365, 0.034147352, 0.060222074, -0.05334978, -0.0033453724, 0.06402796, -0.020089975, -0.009552026, -0.042986102, 0.07231267, 0.02039406, -0.038107134, 0.06873809, 0.024868269, -0.03337336, -0.05945032, 0.06875469, 0.048376407, -0.03143254, -0.07190735, 0.032437563, -0.011766796, 0.048035182, 0.03786945, 0.05100573, 0.03289986, -0.06971936, 0.023229238, 0.037801523, -0.06439375, -0.041263863, 0.06286956, -0.017755542, -0.05133216, -0.0093486225, -0.07226737, -0.05874383, -0.028569095, 0.026248313, -0.049797967, -0.0383904, 0.06950327, -0.013482494, -0.0404024, 0.06486178, 0.044995252, -0.04746435, -0.07114917, 0.011070204, 0.055661436, -0.060831815, -0.021607079, -0.050971508, 0.04341377, -0.058082473, -0.026585342, 0.007408191, -0.045891903, 0.04736873, -0.060975555, -0.059237473, 0.061015587, -0.015640117, -0.06798052, -0.072009936, ...]  \n",
       "10339                      [-0.053296525, -0.064408325, 0.015093507, 0.026235342, -0.04731692, 0.056355704, -0.031125901, -0.023299783, -0.03398903, 0.061473865, 0.014764134, 0.047701873, 0.06124561, 0.06583153, -0.06368977, 0.06593591, -0.06008914, 0.024139281, 0.008004103, -0.016593913, -0.032423664, -0.007638913, 0.021321649, 0.047418017, 0.0065048067, 0.06587279, -0.06534497, 0.05388195, 0.03761205, -0.028294055, -0.005641418, -0.06311832, 0.06593422, -0.03074147, -0.004492615, 0.05967823, 0.04019334, 0.06352182, -0.0005781578, -0.0051233424, 0.065698, -0.03852825, 0.035280976, -0.008484331, 0.06593586, -0.05099616, -0.061287344, -0.009928239, -0.037965965, -0.051153485, -0.030230472, 0.06471479, 0.050972268, -0.040965192, -0.063776314, 0.013729785, -0.036954615, -0.04085626, 0.030186536, 0.06519111, -0.056354072, -0.06478815, -0.027574481, 0.006920729, -0.026437689, -0.0621702, 0.06183791, 0.04529176, 0.06353737, -0.016629035, -0.06593534, 0.059336748, 0.03510118, 0.032087162, -0.06289923, -0.032819267, 0.021128166, -0.0063206144, 0.033092976, 0.049273312, -0.004334203, 0.034304574, 0.01353675, 0.019984297, 0.062540546, -0.043342907, 0.011840198, 0.061226178, 0.027411692, -0.05438554, -0.03762494, -0.005976622, 0.03067532, -0.061049588, 0.038077626, -0.0026606594, 0.0212778, 0.010273176, 0.059355345, -0.06592281, ...]  "
      ]
     },
     "execution_count": 103,
     "metadata": {},
     "output_type": "execute_result"
    }
   ],
   "source": [
    "data = pd.read_pickle('data/data_170125.pkl')\n",
    "data = data.sample(150)\n",
    "\n",
    "data.head()"
   ]
  },
  {
   "cell_type": "code",
   "execution_count": 104,
   "id": "2ee904bd",
   "metadata": {},
   "outputs": [
    {
     "data": {
      "text/plain": [
       "(150, 8)"
      ]
     },
     "execution_count": 104,
     "metadata": {},
     "output_type": "execute_result"
    }
   ],
   "source": [
    "data.shape"
   ]
  },
  {
   "cell_type": "code",
   "execution_count": 105,
   "id": "68762044",
   "metadata": {},
   "outputs": [
    {
     "name": "stderr",
     "output_type": "stream",
     "text": [
      "c:\\Users\\mathi\\miniconda3\\envs\\pytorch\\Lib\\site-packages\\sklearn\\base.py:380: InconsistentVersionWarning: Trying to unpickle estimator MultiLabelBinarizer from version 1.5.2 when using version 1.6.1. This might lead to breaking code or invalid results. Use at your own risk. For more info please refer to:\n",
      "https://scikit-learn.org/stable/model_persistence.html#security-maintainability-limitations\n",
      "  warnings.warn(\n",
      "100%|██████████| 150/150 [14:02<00:00,  5.62s/it]\n"
     ]
    }
   ],
   "source": [
    "\n",
    "# Charger le MultiLabelBinarizer\n",
    "mlb = pickle.load(open(\"mlb_use.pkl\", \"rb\"))\n",
    "TAG_VOCAB = mlb.classes_.tolist()\n",
    "\n",
    "# Itérer sur le dataset et prédire les tags\n",
    "predicted_tags_list = []\n",
    "jaccard_scores = []\n",
    "f1_scores = []\n",
    "\n",
    "# Pour calculs finaux\n",
    "all_y_true = []\n",
    "all_y_pred = []\n",
    "\n",
    "for idx, row in tqdm(data.iterrows(), total=len(data)):\n",
    "    question = row['cleaned_title_body']\n",
    "    true_tags = row['clean_tags']\n",
    "\n",
    "    try:\n",
    "        pred_tags = ask_ollama(question, TAG_VOCAB)\n",
    "        predicted_tags_list.append(pred_tags)\n",
    "\n",
    "        # Binariser les tags pour la ligne\n",
    "        y_true_bin = mlb.transform([true_tags])\n",
    "        y_pred_bin = mlb.transform([pred_tags])\n",
    "\n",
    "        # Stocker pour calcul global\n",
    "        all_y_true.append(y_true_bin[0])\n",
    "        all_y_pred.append(y_pred_bin[0])\n",
    "\n",
    "        # Jaccard score par question\n",
    "        jaccard_scores.append(jaccard_score(y_true_bin, y_pred_bin, average='samples'))\n",
    "\n",
    "        # F1 score par question\n",
    "        f1_scores.append(f1_score(y_true_bin, y_pred_bin, average='samples', zero_division=0))\n",
    "\n",
    "        time.sleep(1.5)  # éviter surcharge serveur Ollama\n",
    "    except Exception as e:\n",
    "        predicted_tags_list.append([])\n",
    "        jaccard_scores.append(0.0)\n",
    "        f1_scores.append(0.0)\n",
    "        print(f\"⚠️ Erreur à l’index {idx} : {e}\")\n",
    "\n",
    "# Ajouter les résultats au dataframe\n",
    "data['predicted_tags'] = predicted_tags_list\n",
    "data['jaccard_score'] = jaccard_scores\n",
    "data['f1_score'] = f1_scores"
   ]
  },
  {
   "cell_type": "code",
   "execution_count": 106,
   "id": "53ec5b93",
   "metadata": {},
   "outputs": [
    {
     "name": "stdout",
     "output_type": "stream",
     "text": [
      "\n",
      "✅ Moyenne Jaccard score (échantillons) : 0.6497\n",
      "✅ Moyenne F1 score (échantillons) : 0.7145\n"
     ]
    }
   ],
   "source": [
    "# Conversion en array pour calcul global\n",
    "import numpy as np\n",
    "y_true_array = np.array(all_y_true)\n",
    "y_pred_array = np.array(all_y_pred)\n",
    "\n",
    "# Moyennes globales\n",
    "mean_jaccard = jaccard_score(y_true_array, y_pred_array, average='samples')\n",
    "mean_f1 = f1_score(y_true_array, y_pred_array, average='samples', zero_division=0)\n",
    "\n",
    "print(f\"\\n✅ Moyenne Jaccard score (échantillons) : {mean_jaccard:.4f}\")\n",
    "print(f\"✅ Moyenne F1 score (échantillons) : {mean_f1:.4f}\")"
   ]
  },
  {
   "cell_type": "code",
   "execution_count": 107,
   "id": "4bcfefe1",
   "metadata": {},
   "outputs": [
    {
     "name": "stdout",
     "output_type": "stream",
     "text": [
      "\n",
      "📊 Jaccard score par tag :\n",
      "          tag  jaccard_score\n",
      "8      python       0.814815\n",
      "0     android       0.800000\n",
      "2         css       0.666667\n",
      "7      pandas       0.652174\n",
      "6     node.js       0.590909\n",
      "9     reactjs       0.531250\n",
      "4        java       0.463415\n",
      "3        html       0.454545\n",
      "5  javascript       0.425532\n",
      "1      arrays       0.320000\n"
     ]
    }
   ],
   "source": [
    "# Jaccard par tag\n",
    "jaccard_by_tag = jaccard_score(y_true_array, y_pred_array, average=None)\n",
    "jaccard_tag_df = pd.DataFrame({'tag': TAG_VOCAB, 'jaccard_score': jaccard_by_tag})\n",
    "print(\"\\n📊 Jaccard score par tag :\")\n",
    "print(jaccard_tag_df.sort_values(by='jaccard_score', ascending=False))"
   ]
  },
  {
   "cell_type": "code",
   "execution_count": 108,
   "id": "8f237c47",
   "metadata": {},
   "outputs": [
    {
     "name": "stdout",
     "output_type": "stream",
     "text": [
      "\n",
      "📊 F1 score par tag (⚠️ sensible aux classes rares) :\n",
      "          tag  f1_score\n",
      "8      python  0.897959\n",
      "0     android  0.888889\n",
      "2         css  0.800000\n",
      "7      pandas  0.789474\n",
      "6     node.js  0.742857\n",
      "9     reactjs  0.693878\n",
      "4        java  0.633333\n",
      "3        html  0.625000\n",
      "5  javascript  0.597015\n",
      "1      arrays  0.484848\n"
     ]
    }
   ],
   "source": [
    "# F1 score par tag (à utiliser avec prudence si certains tags sont rares)\n",
    "f1_by_tag = f1_score(y_true_array, y_pred_array, average=None, zero_division=0)\n",
    "f1_tag_df = pd.DataFrame({'tag': TAG_VOCAB, 'f1_score': f1_by_tag})\n",
    "print(\"\\n📊 F1 score par tag (⚠️ sensible aux classes rares) :\")\n",
    "print(f1_tag_df.sort_values(by='f1_score', ascending=False))"
   ]
  },
  {
   "cell_type": "code",
   "execution_count": 109,
   "id": "cb4dd776",
   "metadata": {},
   "outputs": [
    {
     "data": {
      "text/html": [
       "<div>\n",
       "<style scoped>\n",
       "    .dataframe tbody tr th:only-of-type {\n",
       "        vertical-align: middle;\n",
       "    }\n",
       "\n",
       "    .dataframe tbody tr th {\n",
       "        vertical-align: top;\n",
       "    }\n",
       "\n",
       "    .dataframe thead th {\n",
       "        text-align: right;\n",
       "    }\n",
       "</style>\n",
       "<table border=\"1\" class=\"dataframe\">\n",
       "  <thead>\n",
       "    <tr style=\"text-align: right;\">\n",
       "      <th></th>\n",
       "      <th>Id</th>\n",
       "      <th>Score</th>\n",
       "      <th>ViewCount</th>\n",
       "      <th>AnswerCount</th>\n",
       "      <th>CreationDate</th>\n",
       "      <th>clean_tags</th>\n",
       "      <th>cleaned_title_body</th>\n",
       "      <th>use_embedding</th>\n",
       "      <th>predicted_tags</th>\n",
       "      <th>jaccard_score</th>\n",
       "      <th>f1_score</th>\n",
       "    </tr>\n",
       "  </thead>\n",
       "  <tbody>\n",
       "    <tr>\n",
       "      <th>41373</th>\n",
       "      <td>65540389</td>\n",
       "      <td>0</td>\n",
       "      <td>356</td>\n",
       "      <td>1</td>\n",
       "      <td>2021-01-02 14:48:42</td>\n",
       "      <td>[java]</td>\n",
       "      <td>classloader failed locating my properties file...</td>\n",
       "      <td>[0.0048554507, 0.059991304, 0.0037320948, -0.0...</td>\n",
       "      <td>[java]</td>\n",
       "      <td>1.0</td>\n",
       "      <td>1.0</td>\n",
       "    </tr>\n",
       "    <tr>\n",
       "      <th>9410</th>\n",
       "      <td>69178271</td>\n",
       "      <td>0</td>\n",
       "      <td>97</td>\n",
       "      <td>2</td>\n",
       "      <td>2021-09-14 12:59:42</td>\n",
       "      <td>[html]</td>\n",
       "      <td>my input file date format changes on daily bas...</td>\n",
       "      <td>[-0.0760977, -0.034530003, -0.04957246, 0.0436...</td>\n",
       "      <td>[java]</td>\n",
       "      <td>0.0</td>\n",
       "      <td>0.0</td>\n",
       "    </tr>\n",
       "    <tr>\n",
       "      <th>15952</th>\n",
       "      <td>69358643</td>\n",
       "      <td>1</td>\n",
       "      <td>2275</td>\n",
       "      <td>1</td>\n",
       "      <td>2021-09-28 08:54:22</td>\n",
       "      <td>[java]</td>\n",
       "      <td>javanetconnectexception operation timed out co...</td>\n",
       "      <td>[-0.04345558, 0.058617216, -0.0546204, -0.0421...</td>\n",
       "      <td>[java]</td>\n",
       "      <td>1.0</td>\n",
       "      <td>1.0</td>\n",
       "    </tr>\n",
       "    <tr>\n",
       "      <th>7237</th>\n",
       "      <td>69116380</td>\n",
       "      <td>0</td>\n",
       "      <td>1205</td>\n",
       "      <td>1</td>\n",
       "      <td>2021-09-09 10:15:56</td>\n",
       "      <td>[python]</td>\n",
       "      <td>add liveness probe to rest api pi have a rest ...</td>\n",
       "      <td>[-0.043955952, -0.023151936, -0.05438789, -0.0...</td>\n",
       "      <td>[python]</td>\n",
       "      <td>1.0</td>\n",
       "      <td>1.0</td>\n",
       "    </tr>\n",
       "    <tr>\n",
       "      <th>10339</th>\n",
       "      <td>69203610</td>\n",
       "      <td>0</td>\n",
       "      <td>175</td>\n",
       "      <td>1</td>\n",
       "      <td>2021-09-16 06:51:50</td>\n",
       "      <td>[android]</td>\n",
       "      <td>constraining a edittext view to a checkbox pro...</td>\n",
       "      <td>[-0.053296525, -0.064408325, 0.015093507, 0.02...</td>\n",
       "      <td>[android]</td>\n",
       "      <td>1.0</td>\n",
       "      <td>1.0</td>\n",
       "    </tr>\n",
       "  </tbody>\n",
       "</table>\n",
       "</div>"
      ],
      "text/plain": [
       "             Id  Score  ViewCount  AnswerCount         CreationDate  \\\n",
       "41373  65540389      0        356            1  2021-01-02 14:48:42   \n",
       "9410   69178271      0         97            2  2021-09-14 12:59:42   \n",
       "15952  69358643      1       2275            1  2021-09-28 08:54:22   \n",
       "7237   69116380      0       1205            1  2021-09-09 10:15:56   \n",
       "10339  69203610      0        175            1  2021-09-16 06:51:50   \n",
       "\n",
       "      clean_tags                                 cleaned_title_body  \\\n",
       "41373     [java]  classloader failed locating my properties file...   \n",
       "9410      [html]  my input file date format changes on daily bas...   \n",
       "15952     [java]  javanetconnectexception operation timed out co...   \n",
       "7237    [python]  add liveness probe to rest api pi have a rest ...   \n",
       "10339  [android]  constraining a edittext view to a checkbox pro...   \n",
       "\n",
       "                                           use_embedding predicted_tags  \\\n",
       "41373  [0.0048554507, 0.059991304, 0.0037320948, -0.0...         [java]   \n",
       "9410   [-0.0760977, -0.034530003, -0.04957246, 0.0436...         [java]   \n",
       "15952  [-0.04345558, 0.058617216, -0.0546204, -0.0421...         [java]   \n",
       "7237   [-0.043955952, -0.023151936, -0.05438789, -0.0...       [python]   \n",
       "10339  [-0.053296525, -0.064408325, 0.015093507, 0.02...      [android]   \n",
       "\n",
       "       jaccard_score  f1_score  \n",
       "41373            1.0       1.0  \n",
       "9410             0.0       0.0  \n",
       "15952            1.0       1.0  \n",
       "7237             1.0       1.0  \n",
       "10339            1.0       1.0  "
      ]
     },
     "execution_count": 109,
     "metadata": {},
     "output_type": "execute_result"
    }
   ],
   "source": [
    "pd.set_option('display.max_colwidth', 50)\n",
    "data.head()"
   ]
  },
  {
   "cell_type": "code",
   "execution_count": 110,
   "id": "2c36ce3c",
   "metadata": {},
   "outputs": [
    {
     "data": {
      "text/html": [
       "<div>\n",
       "<style scoped>\n",
       "    .dataframe tbody tr th:only-of-type {\n",
       "        vertical-align: middle;\n",
       "    }\n",
       "\n",
       "    .dataframe tbody tr th {\n",
       "        vertical-align: top;\n",
       "    }\n",
       "\n",
       "    .dataframe thead th {\n",
       "        text-align: right;\n",
       "    }\n",
       "</style>\n",
       "<table border=\"1\" class=\"dataframe\">\n",
       "  <thead>\n",
       "    <tr style=\"text-align: right;\">\n",
       "      <th></th>\n",
       "      <th>cleaned_title_body</th>\n",
       "      <th>clean_tags</th>\n",
       "    </tr>\n",
       "  </thead>\n",
       "  <tbody>\n",
       "    <tr>\n",
       "      <th>9410</th>\n",
       "      <td>my input file date format changes on daily basis pi need help please my codeinputfilecode changes on daily basis which gets generated and store under codetmpcode directory file format date as followsp\\nprecodetmp\\n570572 sep 13 2102 sessions_record_20210913_210052csv\\n570788 sep 14 0901 sessions_record_20210914_090041csv\\ncodepre\\npim not sure how to pick it up as an input file instead of hardcoded in my scriptp\\npre classlangperl prettyprintoverridecode#usrbinperl\\n\\nuse strict use warnings\\nuse tiearraycsv\\nuse datadumper\\nuse dateparse\\nuse posix qwstrftime\\n\\nmy hours  1\\nmy timenow  time\\nmy inputfile  quotsessions_record_20210914_090041csvquot\\n\\ntie my sessions_record tiearraycsv inputfile \\n   tie_file gt  recsep gt quotrnquot \\n   text_csv gt  binary gt 1 \\n\\n\\ntie my incidentidlist tiearraycsv incidentidlistcsv\\n\\nincidentidlist  map \\n   _4  as+ _4 _18 timenow \\nstr2time_18  60  60\\n grep  \\n   _0  serviceinc ampamp timenow  str2time_18  60  60 gt hours \\n sessions_record\\ncodepre\\n</td>\n",
       "      <td>[html]</td>\n",
       "    </tr>\n",
       "  </tbody>\n",
       "</table>\n",
       "</div>"
      ],
      "text/plain": [
       "                                                                                                                                                                                                                                                                                                                                                                                                                                                                                                                                                                                                                                                                                                                                                                                                                                                                                                                                                                                                                                    cleaned_title_body  \\\n",
       "9410  my input file date format changes on daily basis pi need help please my codeinputfilecode changes on daily basis which gets generated and store under codetmpcode directory file format date as followsp\\nprecodetmp\\n570572 sep 13 2102 sessions_record_20210913_210052csv\\n570788 sep 14 0901 sessions_record_20210914_090041csv\\ncodepre\\npim not sure how to pick it up as an input file instead of hardcoded in my scriptp\\npre classlangperl prettyprintoverridecode#usrbinperl\\n\\nuse strict use warnings\\nuse tiearraycsv\\nuse datadumper\\nuse dateparse\\nuse posix qwstrftime\\n\\nmy hours  1\\nmy timenow  time\\nmy inputfile  quotsessions_record_20210914_090041csvquot\\n\\ntie my sessions_record tiearraycsv inputfile \\n   tie_file gt  recsep gt quotrnquot \\n   text_csv gt  binary gt 1 \\n\\n\\ntie my incidentidlist tiearraycsv incidentidlistcsv\\n\\nincidentidlist  map \\n   _4  as+ _4 _18 timenow \\nstr2time_18  60  60\\n grep  \\n   _0  serviceinc ampamp timenow  str2time_18  60  60 gt hours \\n sessions_record\\ncodepre\\n   \n",
       "\n",
       "     clean_tags  \n",
       "9410     [html]  "
      ]
     },
     "execution_count": 110,
     "metadata": {},
     "output_type": "execute_result"
    }
   ],
   "source": [
    "# On change les options pandas pour afficher tout le texte\n",
    "pd.set_option('display.max_colwidth', None)  # désactive le troncage des colonnes texte\n",
    "jaccard_null = data.loc[(data['jaccard_score'] == 0) & (data['clean_tags'].apply(lambda tags: 'html' in tags)), ['cleaned_title_body', 'clean_tags']]\n",
    "jaccard_null.head()"
   ]
  },
  {
   "cell_type": "code",
   "execution_count": 111,
   "id": "4d59ef09",
   "metadata": {},
   "outputs": [
    {
     "data": {
      "image/png": "[encoded data removed]",
      "text/plain": [
       "<Figure size 1000x600 with 1 Axes>"
      ]
     },
     "metadata": {},
     "output_type": "display_data"
    }
   ],
   "source": [
    "%matplotlib inline\n",
    "\n",
    "import seaborn as sns\n",
    "import matplotlib.pyplot as plt\n",
    "\n",
    "\n",
    "# Tracé du barplot\n",
    "plt.figure(figsize=(10, 6))\n",
    "sns.barplot(data=jaccard_tag_df, x='tag', y='jaccard_score')\n",
    "plt.title(\"Jaccard Score moyen par tag\")\n",
    "plt.xlabel(\"Tag\")\n",
    "plt.ylabel(\"Jaccard Score moyen\")\n",
    "plt.xticks(rotation=45)\n",
    "plt.tight_layout()\n",
    "plt.show()"
   ]
  },
  {
   "cell_type": "code",
   "execution_count": 112,
   "id": "23565ed3",
   "metadata": {},
   "outputs": [],
   "source": [
    "# Sauvegarde des résultats\n",
    "data.to_pickle(\"data/results_llm_tags_deepseek14b.pkl\")"
   ]
  }
 ],
 "metadata": {
  "kernelspec": {
   "display_name": "pytorch",
   "language": "python",
   "name": "python3"
  },
  "language_info": {
   "codemirror_mode": {
    "name": "ipython",
    "version": 3
   },
   "file_extension": ".py",
   "mimetype": "text/x-python",
   "name": "python",
   "nbconvert_exporter": "python",
   "pygments_lexer": "ipython3",
   "version": "3.11.11"
  }
 },
 "nbformat": 4,
 "nbformat_minor": 5
}
